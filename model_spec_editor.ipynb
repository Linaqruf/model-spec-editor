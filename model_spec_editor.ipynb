{
  "nbformat": 4,
  "nbformat_minor": 0,
  "metadata": {
    "colab": {
      "provenance": [],
      "authorship_tag": "ABX9TyOJTb+zbFdLhy8GUc3tXgmv",
      "include_colab_link": true
    },
    "kernelspec": {
      "name": "python3",
      "display_name": "Python 3"
    },
    "language_info": {
      "name": "python"
    }
  },
  "cells": [
    {
      "cell_type": "markdown",
      "metadata": {
        "id": "view-in-github",
        "colab_type": "text"
      },
      "source": [
        "<a href=\"https://colab.research.google.com/github/Linaqruf/model-spec-editor/blob/main/model_spec_editor.ipynb\" target=\"_parent\"><img src=\"https://colab.research.google.com/assets/colab-badge.svg\" alt=\"Open In Colab\"/></a>"
      ]
    },
    {
      "cell_type": "markdown",
      "source": [
        "# **Model Spec Editor**\n",
        "\n",
        "This notebook provides functionalities for managing and generating model metadata, with a focus on the unofficial Stability.AI Model Metadata Standard Specification."
      ],
      "metadata": {
        "id": "D_ZpU7H8VchP"
      }
    },
    {
      "cell_type": "markdown",
      "source": [
        "## **Install Demo**"
      ],
      "metadata": {
        "id": "LKlWTH5HVaok"
      }
    },
    {
      "cell_type": "code",
      "execution_count": null,
      "metadata": {
        "id": "RmPsfJoQJxTD"
      },
      "outputs": [],
      "source": [
        "import os\n",
        "import subprocess\n",
        "\n",
        "ROOT_DIR = \"/content\"\n",
        "REPO_DIR = os.path.join(ROOT_DIR, \"model-spec-editor\")\n",
        "\n",
        "REPO_URL = \"https://github.com/Linaqruf/model-spec-editor\"\n",
        "\n",
        "def clone_repo(url, dir):\n",
        "    if not os.path.exists(dir):\n",
        "        os.system(f\"git clone {url} {dir}\")\n",
        "\n",
        "def install_deps():\n",
        "    os.system(\"pip install huggingface_hub -r requirements.txt\")\n",
        "\n",
        "def main():\n",
        "    os.chdir(ROOT_DIR)\n",
        "    clone_repo(REPO_URL, REPO_DIR)\n",
        "    os.chdir(REPO_DIR)\n",
        "    install_deps()\n",
        "    print(\"Installation Complete!\")\n",
        "\n",
        "main()\n"
      ]
    },
    {
      "cell_type": "markdown",
      "source": [
        "## **Download Model from Huggingface**"
      ],
      "metadata": {
        "id": "GZXyxN5lVW4k"
      }
    },
    {
      "cell_type": "code",
      "source": [
        "from huggingface_hub import hf_hub_download\n",
        "\n",
        "# Download Model Example\n",
        "hf_hub_download(\n",
        "    repo_id=\"Linaqruf/watson-amelia-xl-lora\",\n",
        "    filename=\"watson_amelia_xl_lora.safetensors\",\n",
        "    local_dir=REPO_DIR,\n",
        "    force_download=True,\n",
        "    )\n",
        "\n",
        "# Download Thumbnail Example\n",
        "hf_hub_download(\n",
        "    repo_id=\"Linaqruf/watson-amelia-xl-lora\",\n",
        "    subfolder=\"sample_images\",\n",
        "    filename=\"xl_output_upscaled_00012_.png\",\n",
        "    local_dir=REPO_DIR,\n",
        "    force_download=True,\n",
        "    )\n",
        "\n"
      ],
      "metadata": {
        "id": "8M_XTDxPPW6K"
      },
      "execution_count": null,
      "outputs": []
    },
    {
      "cell_type": "markdown",
      "source": [
        "## **Write Metadata**"
      ],
      "metadata": {
        "id": "cXr9zpjeVw_l"
      }
    },
    {
      "cell_type": "code",
      "source": [
        "config = {\n",
        "    \"ckpt\"            : \"./watson_amelia_xl_lora.safetensors\",\n",
        "    \"output_file\"     : \"./amelia_watson_xl.safetensors\",\n",
        "    \"add_hash\"        : True, # Set if you want to add your new model has to metadata\n",
        "    \"implementation\"  : \"stability_ai\", # Set to 'stability_ai' or 'diffusers'\n",
        "    \"architecture\"    : \"sd_xl_v1_base\", # Set to `sd_v1`, `sd_v2_512`, `sd_v2_768_v`, or `sd_xl_v1_base`\n",
        "    \"adapter\"         : \"lora\", # Set to 'lora' or 'textual-inversion', set to None if checkpoint\n",
        "    \"title\"           : \"Amelia Watson LoRA\", # Put model title here\n",
        "    \"description\"     : \"Amelia Watson, a charismatic time-traveling detective from the virtual realm of Hololive. Dive into her universe with this model featuring all her iconic outfits and complementary accessories. Use the generic 'amelia watson' tag to cater to diverse scenarios and imaginative requirements.\",\n",
        "    \"author\"          : \"Linaqruf\", # Put your name here\n",
        "    \"merged_from\"     : None, # Set if the model is not fine-tuned but instead merged\n",
        "    \"license\"         : \"CreativeML Open RAIL++-M License\",\n",
        "    \"tags\"            : \"anime, character, waifu, hololive\",\n",
        "    \"usage_hint\"      : \"Recommended strength 70% (0.7). Use with ComfyUI, Automatic1111 and Diffusers library as SDXL LoRA adapter.\",\n",
        "    \"trigger_phrase\"  : \"amelia watson, amelia_detective, amelia_casual, amelia_formal, amelia_kimono\", # Leave it if the model don't have custom trigger\n",
        "    \"thumbnail\"       : \"./sample_images/xl_output_upscaled_00012_.png\", # Set path to sample images to be used as thumbnail\n",
        "    \"prediction_type\" : \"epsilon\",\n",
        "    \"timesteps\"       : None, # Timesteps for the model, usage: `<min_timesteps>,<max_timesteps`\n",
        "    \"clip_skip\"       : None, # Set if the model architecture is `sd_v1`\n",
        "    \"reso\"            : \"1024, 1024\",\n",
        "    \"timestamp\"       : \"2023-08-18\", # If not provided, the current time is used.\n",
        "    \"debug\"           : False # If TRUE, it's only print the metadata instead of saving the model.\n",
        "}\n",
        "\n",
        "args = \"\"\n",
        "for k, v in config.items():\n",
        "    if k.startswith(\"_\"):\n",
        "        args += f'\"{v}\" '\n",
        "    elif isinstance(v, str):\n",
        "        args += f'--{k}=\"{v}\" '\n",
        "    elif isinstance(v, bool) and v:\n",
        "        args += f\"--{k} \"\n",
        "    elif isinstance(v, float) and not isinstance(v, bool):\n",
        "        args += f\"--{k}={v} \"\n",
        "    elif isinstance(v, int) and not isinstance(v, bool):\n",
        "        args += f\"--{k}={v} \"\n",
        "\n",
        "final_args = f\"python model_spec_editor.py {args}\"\n",
        "\n",
        "os.chdir(REPO_DIR)\n",
        "!{final_args}"
      ],
      "metadata": {
        "id": "_X--gM6PJ-20"
      },
      "execution_count": null,
      "outputs": []
    },
    {
      "cell_type": "markdown",
      "source": [
        "## **Read Metadata**"
      ],
      "metadata": {
        "id": "1fu-Ss_mWgAD"
      }
    },
    {
      "cell_type": "code",
      "source": [
        "config = {\n",
        "    \"model_path\"      : \"./amelia_watson_xl.safetensors\",\n",
        "    \"only_sai\"        : True,\n",
        "    \"save_metadata\"   : \"toml\",\n",
        "    \"save_thumbnail\"  : True\n",
        "}\n",
        "\n",
        "args = \"\"\n",
        "for k, v in config.items():\n",
        "    if k.startswith(\"_\"):\n",
        "        args += f'\"{v}\" '\n",
        "    elif isinstance(v, str):\n",
        "        args += f'--{k}=\"{v}\" '\n",
        "    elif isinstance(v, bool) and v:\n",
        "        args += f\"--{k} \"\n",
        "    elif isinstance(v, float) and not isinstance(v, bool):\n",
        "        args += f\"--{k}={v} \"\n",
        "    elif isinstance(v, int) and not isinstance(v, bool):\n",
        "        args += f\"--{k}={v} \"\n",
        "\n",
        "final_args = f\"python model_spec_reader.py {args}\"\n",
        "\n",
        "os.chdir(REPO_DIR)\n",
        "!{final_args}"
      ],
      "metadata": {
        "id": "IEBxdTixO86y"
      },
      "execution_count": null,
      "outputs": []
    },
    {
      "cell_type": "markdown",
      "source": [
        "## References\n",
        "\n",
        "- Original Source: [https://github.com/kohya-ss/sd-scripts/blob/dev/library/sai_model_spec.py](https://github.com/kohya-ss/sd-scripts/blob/dev/library/sai_model_spec.py)\n",
        "- Documentation: [https://github.com/Stability-AI/ModelSpec](https://github.com/Stability-AI/ModelSpec)"
      ],
      "metadata": {
        "id": "xVxJYzw9Y-RS"
      }
    }
  ]
}